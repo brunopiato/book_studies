{
 "cells": [
  {
   "cell_type": "markdown",
   "metadata": {},
   "source": [
    "# 1. <a id='toc1_'></a>[Python Data Science Essentials](#toc0_)"
   ]
  },
  {
   "cell_type": "markdown",
   "metadata": {},
   "source": [
    "**Table of contents**<a id='toc0_'></a>    \n",
    "- 1. [Python Data Science Essentials](#toc1_)    \n",
    "  - 1.1. [Capítulo 01: First Steps](#toc1_1_)    \n",
    "  - 1.2. [Capítulo 02: Data Munging](#toc1_2_)    \n",
    "  - 1.3. [Capítulo 03: The Data Pipeline](#toc1_3_)    \n",
    "  - 1.4. [Capítulo 04: Machine Learning](#toc1_4_)    \n",
    "  - 1.5. [Capítulo 05: Visualization, Insights and Results](#toc1_5_)    \n",
    "  - 1.6. [Capítulo 06: Social Network Analysis](#toc1_6_)    \n",
    "  - 1.7. [Capítulo 07: Deep Learning Beyond the Basics](#toc1_7_)    \n",
    "  - 1.8. [Capítulo 08: Spark for Big Data](#toc1_8_)    \n",
    "\n",
    "<!-- vscode-jupyter-toc-config\n",
    "\tnumbering=true\n",
    "\tanchor=true\n",
    "\tflat=false\n",
    "\tminLevel=1\n",
    "\tmaxLevel=6\n",
    "\t/vscode-jupyter-toc-config -->\n",
    "<!-- THIS CELL WILL BE REPLACED ON TOC UPDATE. DO NOT WRITE YOUR TEXT IN THIS CELL -->"
   ]
  },
  {
   "cell_type": "markdown",
   "metadata": {},
   "source": [
    "## 1.1. <a id='toc1_1_'></a>[Capítulo 01: First Steps](#toc0_)"
   ]
  },
  {
   "cell_type": "markdown",
   "metadata": {},
   "source": [
    "## 1.2. <a id='toc1_2_'></a>[Capítulo 02: Data Munging](#toc0_)"
   ]
  },
  {
   "cell_type": "markdown",
   "metadata": {},
   "source": [
    "## 1.3. <a id='toc1_3_'></a>[Capítulo 03: The Data Pipeline](#toc0_)"
   ]
  },
  {
   "cell_type": "markdown",
   "metadata": {},
   "source": [
    "## 1.4. <a id='toc1_4_'></a>[Capítulo 04: Machine Learning](#toc0_)"
   ]
  },
  {
   "cell_type": "markdown",
   "metadata": {},
   "source": [
    "## 1.5. <a id='toc1_5_'></a>[Capítulo 05: Visualization, Insights and Results](#toc0_)"
   ]
  },
  {
   "cell_type": "markdown",
   "metadata": {},
   "source": [
    "## 1.6. <a id='toc1_6_'></a>[Capítulo 06: Social Network Analysis](#toc0_)"
   ]
  },
  {
   "cell_type": "markdown",
   "metadata": {},
   "source": [
    "## 1.7. <a id='toc1_7_'></a>[Capítulo 07: Deep Learning Beyond the Basics](#toc0_)"
   ]
  },
  {
   "cell_type": "markdown",
   "metadata": {},
   "source": [
    "## 1.8. <a id='toc1_8_'></a>[Capítulo 08: Spark for Big Data](#toc0_)"
   ]
  }
 ],
 "metadata": {
  "language_info": {
   "name": "python"
  },
  "orig_nbformat": 4
 },
 "nbformat": 4,
 "nbformat_minor": 2
}
