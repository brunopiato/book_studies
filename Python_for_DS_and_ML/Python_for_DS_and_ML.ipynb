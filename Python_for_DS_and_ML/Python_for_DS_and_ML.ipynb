{
 "cells": [
  {
   "cell_type": "markdown",
   "metadata": {},
   "source": [
    "# 1. <a id='toc1_'></a>[Python for Data Science and Machine Learning - Andy Vickler](#toc0_)"
   ]
  },
  {
   "cell_type": "markdown",
   "metadata": {},
   "source": [
    "**Table of contents**<a id='toc0_'></a>    \n",
    "- 1. [Python for Data Science and Machine Learning - Andy Vickler](#toc1_)    \n",
    "  - 1.1. [Capítulo 01: An Introduction to Data Science and Machine Learning](#toc1_1_)    \n",
    "  - 1.2. [Capítulo 02: Introducing NumPy](#toc1_2_)    \n",
    "  - 1.3. [Capítulo 03: Data Manipulation with Pandas](#toc1_3_)    \n",
    "  - 1.4. [Capítulo 04: Data Visualization with Matplotlib and Seaborn](#toc1_4_)    \n",
    "  - 1.5. [Capítulo 05: An In-Depth Guide to Machine Learning](#toc1_5_)    \n",
    "\n",
    "<!-- vscode-jupyter-toc-config\n",
    "\tnumbering=true\n",
    "\tanchor=true\n",
    "\tflat=false\n",
    "\tminLevel=1\n",
    "\tmaxLevel=6\n",
    "\t/vscode-jupyter-toc-config -->\n",
    "<!-- THIS CELL WILL BE REPLACED ON TOC UPDATE. DO NOT WRITE YOUR TEXT IN THIS CELL -->"
   ]
  },
  {
   "cell_type": "markdown",
   "metadata": {},
   "source": [
    "## 1.1. <a id='toc1_1_'></a>[Capítulo 01: An Introduction to Data Science and Machine Learning](#toc0_)"
   ]
  },
  {
   "cell_type": "markdown",
   "metadata": {},
   "source": [
    "## 1.2. <a id='toc1_2_'></a>[Capítulo 02: Introducing NumPy](#toc0_)"
   ]
  },
  {
   "cell_type": "markdown",
   "metadata": {},
   "source": [
    "## 1.3. <a id='toc1_3_'></a>[Capítulo 03: Data Manipulation with Pandas](#toc0_)"
   ]
  },
  {
   "cell_type": "markdown",
   "metadata": {},
   "source": [
    "## 1.4. <a id='toc1_4_'></a>[Capítulo 04: Data Visualization with Matplotlib and Seaborn](#toc0_)"
   ]
  },
  {
   "cell_type": "markdown",
   "metadata": {},
   "source": [
    "## 1.5. <a id='toc1_5_'></a>[Capítulo 05: An In-Depth Guide to Machine Learning](#toc0_)"
   ]
  }
 ],
 "metadata": {
  "language_info": {
   "name": "python"
  },
  "orig_nbformat": 4
 },
 "nbformat": 4,
 "nbformat_minor": 2
}
